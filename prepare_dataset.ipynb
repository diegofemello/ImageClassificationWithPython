{
 "cells": [
  {
   "cell_type": "code",
   "execution_count": 10,
   "metadata": {},
   "outputs": [],
   "source": [
    "import os\n",
    "import cv2\n",
    "import imghdr\n"
   ]
  },
  {
   "cell_type": "code",
   "execution_count": 11,
   "metadata": {},
   "outputs": [],
   "source": [
    "def check_images( s_dir, ext_list):\n",
    "    bad_images=[]\n",
    "    bad_ext=[]\n",
    "    s_list= os.listdir(s_dir)\n",
    "    for klass in s_list:\n",
    "        klass_path=os.path.join (s_dir, klass)\n",
    "        print ('processing class directory ', klass)\n",
    "        if os.path.isdir(klass_path):\n",
    "            file_list=os.listdir(klass_path)\n",
    "            for f in file_list:               \n",
    "                f_path=os.path.join (klass_path,f)\n",
    "                tip = imghdr.what(f_path)\n",
    "                if ext_list.count(tip) == 0:\n",
    "                  bad_images.append(f_path)\n",
    "                if os.path.isfile(f_path):\n",
    "                    try:\n",
    "                        img=cv2.imread(f_path)\n",
    "                        shape=img.shape\n",
    "                    except:\n",
    "                        print('file ', f_path, ' is not a valid image file')\n",
    "                        bad_images.append(f_path)\n",
    "                else:\n",
    "                    print('*** fatal error, you a sub directory ', f, ' in class directory ', klass)\n",
    "    print('length of bad images list ', len(bad_images))\n",
    "    return bad_images, bad_ext"
   ]
  },
  {
   "cell_type": "code",
   "execution_count": 12,
   "metadata": {},
   "outputs": [],
   "source": [
    "# renaming all files with space\n",
    "dir = 'cats_and_dogs_filtered/train/sharks'\n",
    "filenames = os.listdir(dir)\n",
    "\n",
    "for filename in filenames:\n",
    "    os.rename(os.path.join(dir, filename), os.path.join(\n",
    "        dir, filename.replace(' ', '-')))\n"
   ]
  },
  {
   "cell_type": "code",
   "execution_count": 13,
   "metadata": {},
   "outputs": [
    {
     "name": "stdout",
     "output_type": "stream",
     "text": [
      "processing class directory  cats\n",
      "processing class directory  dogs\n",
      "processing class directory  sharks\n",
      "length of bad images list  0\n",
      " no improper image files were found\n"
     ]
    }
   ],
   "source": [
    "source_dir =r'D:\\TCC\\KerasCatsAndDogs\\cats_and_dogs_filtered\\train'\n",
    "good_exts=['jpg', 'png', 'jpeg', 'gif', 'bmp', 'jpeg' ] # list of acceptable extensions\n",
    "bad_file_list, bad_ext_list=check_images(source_dir, good_exts)\n",
    "if len(bad_file_list) !=0:\n",
    "    print('improper image files are listed below')\n",
    "    for i in range (len(bad_file_list)):\n",
    "        print (bad_file_list[i])\n",
    "        \n",
    "        # removing bad file\n",
    "        os.remove(bad_file_list[i])\n",
    "        \n",
    "        \n",
    "else:\n",
    "    print(' no improper image files were found')"
   ]
  }
 ],
 "metadata": {
  "kernelspec": {
   "display_name": "Python 3.10.1 ('venv': venv)",
   "language": "python",
   "name": "python3"
  },
  "language_info": {
   "codemirror_mode": {
    "name": "ipython",
    "version": 3
   },
   "file_extension": ".py",
   "mimetype": "text/x-python",
   "name": "python",
   "nbconvert_exporter": "python",
   "pygments_lexer": "ipython3",
   "version": "3.10.1"
  },
  "orig_nbformat": 4,
  "vscode": {
   "interpreter": {
    "hash": "ac9141c86fb1d7d0fb4e951428d604ae76c7b20fa8f4e074eececd8a5a3fbd93"
   }
  }
 },
 "nbformat": 4,
 "nbformat_minor": 2
}
